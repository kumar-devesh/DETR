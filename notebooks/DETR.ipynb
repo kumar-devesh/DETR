{
  "nbformat": 4,
  "nbformat_minor": 0,
  "metadata": {
    "colab": {
      "name": "DETR.ipynb",
      "provenance": [],
      "collapsed_sections": [
        "_Qla2WbpkWlJ",
        "foX2pfsKxkD0"
      ],
      "authorship_tag": "ABX9TyNB6fMgYqxQ9POOdLWjD/jJ",
      "include_colab_link": true
    },
    "kernelspec": {
      "name": "python3",
      "display_name": "Python 3"
    },
    "language_info": {
      "name": "python"
    }
  },
  "cells": [
    {
      "cell_type": "markdown",
      "metadata": {
        "id": "view-in-github",
        "colab_type": "text"
      },
      "source": [
        "<a href=\"https://colab.research.google.com/github/kumar-devesh/DETR/blob/master/notebooks/DETR.ipynb\" target=\"_parent\"><img src=\"https://colab.research.google.com/assets/colab-badge.svg\" alt=\"Open In Colab\"/></a>"
      ]
    },
    {
      "cell_type": "code",
      "metadata": {
        "id": "acEeS2iaUGY4"
      },
      "source": [
        "!pip install xmltodict"
      ],
      "execution_count": null,
      "outputs": []
    },
    {
      "cell_type": "code",
      "metadata": {
        "id": "J7xUblNOUM8u"
      },
      "source": [
        "import os\n",
        "import itertools\n",
        "import PIL\n",
        "from tqdm import tqdm\n",
        "import torchvision.models as models\n",
        "import torch\n",
        "import torch.nn as nn\n",
        "import torch.nn.functional as F\n",
        "import torchvision \n",
        "import torch.optim as optim\n",
        "import numpy as np\n",
        "import matplotlib.pyplot as plt\n",
        "import seaborn as sns\n",
        "from PIL import Image\n",
        "from torchvision import transforms\n",
        "from torchvision.datasets import VOCDetection"
      ],
      "execution_count": null,
      "outputs": []
    },
    {
      "cell_type": "code",
      "metadata": {
        "id": "5shva77kLEof"
      },
      "source": [
        "from torch.utils.data import Dataset\n",
        "from torchvision import transforms\n",
        "from torch.utils.data import DataLoader\n",
        "from torchvision import models\n",
        "from torchsummary import summary\n",
        "import xmltodict"
      ],
      "execution_count": 18,
      "outputs": []
    },
    {
      "cell_type": "code",
      "metadata": {
        "id": "VhiULOtHM1tu",
        "colab": {
          "base_uri": "https://localhost:8080/"
        },
        "outputId": "1f700365-065d-419c-e287-bc266b6b3ab7"
      },
      "source": [
        "from google.colab import drive\n",
        "drive.mount('/content/drive', force_remount=False)"
      ],
      "execution_count": 4,
      "outputs": [
        {
          "output_type": "stream",
          "name": "stdout",
          "text": [
            "Mounted at /content/drive\n"
          ]
        }
      ]
    },
    {
      "cell_type": "code",
      "metadata": {
        "id": "Oqw0p-DlDU92"
      },
      "source": [
        "batch_size = 4\n",
        "dir_path='/content/drive/MyDrive/Colab Notebooks/detr'\n",
        "os.chdir(dir_path)"
      ],
      "execution_count": 5,
      "outputs": []
    },
    {
      "cell_type": "code",
      "metadata": {
        "colab": {
          "base_uri": "https://localhost:8080/"
        },
        "id": "yYP3105HDa2M",
        "outputId": "84cbc738-796b-4a98-ea18-0a0827286b5f"
      },
      "source": [
        "!nvidia-smi"
      ],
      "execution_count": null,
      "outputs": [
        {
          "output_type": "stream",
          "name": "stdout",
          "text": [
            "NVIDIA-SMI has failed because it couldn't communicate with the NVIDIA driver. Make sure that the latest NVIDIA driver is installed and running.\n",
            "\n"
          ]
        }
      ]
    },
    {
      "cell_type": "markdown",
      "metadata": {
        "id": "vIAwLhcpVdrg"
      },
      "source": [
        "## Dataset"
      ]
    },
    {
      "cell_type": "code",
      "metadata": {
        "id": "JyPWMTJUkFmZ"
      },
      "source": [
        "def plotImage(image):\n",
        "  image = np.array(image)\n",
        "  plt.imshow(np.transpose(image,(1,2,0)))"
      ],
      "execution_count": 6,
      "outputs": []
    },
    {
      "cell_type": "code",
      "metadata": {
        "id": "BFXiK2eQSOPN"
      },
      "source": [
        "def plotGrid(images):\n",
        "  img_grid = torchvision.utils.make_grid(images, nrow=4)\n",
        "  img_grig = np.array(img_grid)\n",
        "  img_grid = np.transpose(img_grid,(1,2,0))\n",
        "  plt.imshow(img_grid)"
      ],
      "execution_count": null,
      "outputs": []
    },
    {
      "cell_type": "code",
      "metadata": {
        "id": "TmrgWSptT0ST"
      },
      "source": [
        "def convert_xml_to_dict(path):\n",
        "  \"\"\" converts xml file to a dictionary \"\"\"\n",
        "  fileptr = open(path,\"r\")\n",
        "  xml = fileptr.read()\n",
        "  \n",
        "  #change xml format to ordered dict\n",
        "  xml_to_dict = xmltodict.parse(xml)\n",
        "  return xml_to_dict"
      ],
      "execution_count": 19,
      "outputs": []
    },
    {
      "cell_type": "code",
      "metadata": {
        "id": "qyqHRfKFkFpO"
      },
      "source": [
        "def normalize_image(image):\n",
        "  mean = (0,0,0)\n",
        "  std = (1,1,1)\n",
        "  brightness, contrast, saturation, hue = 0.25*np.random.random_sample((4,))\n",
        "  transform = transforms.Compose([\n",
        "    transforms.ToTensor(),\n",
        "    transforms.ColorJitter(brightness= brightness, contrast=contrast, saturation=saturation, hue=hue),\n",
        "    transforms.Normalize(mean, std)])\n",
        "  return transform(image)"
      ],
      "execution_count": 7,
      "outputs": []
    },
    {
      "cell_type": "code",
      "metadata": {
        "id": "iwGkzE2ekFsJ"
      },
      "source": [
        "class VOC(Dataset):\n",
        "  def __init__(self, img_dir, annotation_dir, normalize = True):\n",
        "    self.img_dir = img_dir\n",
        "    self.annotation_dir = annotation_dir\n",
        "    self.img_list = os.listdir(img_dir)\n",
        "    self.annotation_list = os.listdir(annotation_dir)\n",
        "    self.normalize = normalize\n",
        "\n",
        "  def __len__(self):\n",
        "    return len(self.img_list)\n",
        "\n",
        "  def getbbox(dct_item_list):\n",
        "    bndbox_list = []\n",
        "    name_list = []\n",
        "    for dct_item in dct_item_list:\n",
        "      dct_bndbox = dct_item['bndbox']\n",
        "      bndbox_list.append([float(dct_bndbox['xmin']['#text']), float(dct_bndbox['ymin']['#text']), float(dct_bndbox['xmax']['#text']), float(dct_bndbox['ymax']['#text'])])\n",
        "      name = dct_item['name']['#text']\n",
        "      name_list.append(name)\n",
        "    return {'name': name_list, 'bbox': bndbox_list}\n",
        " \n",
        "  def __getitem__(self, idx):\n",
        "    img_path = os.path.join(self.img_dir, self.img_list[idx])\n",
        "    image = Image.open(img_path)\n",
        "    image = np.array(image)/255\n",
        "    if self.normalize is True:\n",
        "      image = normalize_image(image)\n",
        "    else:\n",
        "      image = np.transpose(image,(2,0,1))\n",
        "    image = torch.tensor(image, dtype=torch.float32, requires_grad=False)\n",
        "\n",
        "    annotation_path = os.path.join(self.annotation_dir, self.annotation_list[idx])\n",
        "    annotation = convert_xml_to_dict(annotation_path)\n",
        "    dct_item_list = annotation['root']['annotation']['object']['item']\n",
        "    if isinstance(dct_item_list, dict):\n",
        "      temp =[]\n",
        "      temp.append(dct_item_list)\n",
        "      dct_item_list = temp\n",
        "    print(len(dct_item_list))\n",
        "    annotations = self.getbbox()\n",
        "    return {'image': image, 'annotation': annotations}"
      ],
      "execution_count": 32,
      "outputs": []
    },
    {
      "cell_type": "code",
      "metadata": {
        "id": "kluJlvTykFvl"
      },
      "source": [
        "train_img_dir = os.path.join(dir_path, 'dataset/processed/images/train')\n",
        "train_annotation_dir = os.path.join(dir_path, 'dataset/processed/annotations/train')"
      ],
      "execution_count": 33,
      "outputs": []
    },
    {
      "cell_type": "code",
      "metadata": {
        "id": "iQ-hCjR9OBay"
      },
      "source": [
        "val_img_dir = os.path.join(dir_path, 'dataset/processed/images/val')\n",
        "val_annotation_dir = os.path.join(dir_path, 'dataset/processed/annotations/val')"
      ],
      "execution_count": 34,
      "outputs": []
    },
    {
      "cell_type": "code",
      "metadata": {
        "id": "Xnry_WsGM9zO"
      },
      "source": [
        "train_data = VOC(img_dir=train_img_dir, annotation_dir = train_annotation_dir) #dataset\n",
        "train_loader = DataLoader(train_data, batch_size, shuffle=True, num_workers=2)"
      ],
      "execution_count": 35,
      "outputs": []
    },
    {
      "cell_type": "code",
      "metadata": {
        "id": "muqmSrHdPk5g"
      },
      "source": [
        "data = next(iter(train_loader))\n",
        "print(data['annotation'])\n",
        "plotGrid(data['image'])"
      ],
      "execution_count": null,
      "outputs": []
    },
    {
      "cell_type": "code",
      "metadata": {
        "id": "9iRtsNsLUhDp"
      },
      "source": [
        "val_data = VOC(img_dir = val_img_dir, annotation_dir = val_annotation_dir) #dataset\n",
        "val_loader = DataLoader(val_data, batch_size, shuffle=True, num_workers=2)"
      ],
      "execution_count": null,
      "outputs": []
    },
    {
      "cell_type": "markdown",
      "metadata": {
        "id": "wt0kUw1oIIMC"
      },
      "source": [
        "## MODEL"
      ]
    },
    {
      "cell_type": "markdown",
      "metadata": {
        "id": "L4vihW08Kl9z"
      },
      "source": [
        "### conv backbone"
      ]
    },
    {
      "cell_type": "code",
      "metadata": {
        "id": "J7U7D6hBIyWM"
      },
      "source": [
        "backbone = models.resnet18(pretrained=True)"
      ],
      "execution_count": null,
      "outputs": []
    },
    {
      "cell_type": "code",
      "metadata": {
        "id": "mPxXddMlgg7_"
      },
      "source": [
        "class ResNetBackbone(nn.Module):\n",
        "  def __init__(self):\n",
        "    super().__init__()\n",
        "    self.conv1 = backbone.conv1\n",
        "    self.bn1 = backbone.bn1\n",
        "    self.relu = backbone.relu\n",
        "    self.maxpool = backbone.maxpool\n",
        "    self.layer1 = backbone.layer1\n",
        "    self.layer2 = backbone.layer2\n",
        "    self.layer3 = backbone.layer3\n",
        "    self.layer4 = backbone.layer4\n",
        "\n",
        "  def forward(self, x):\n",
        "    x = self.conv1(x)\n",
        "    x = self.bn1(x)\n",
        "    x = self.relu(x)\n",
        "    x = self.maxpool(x)\n",
        "    x = self.layer1(x)\n",
        "    x = self.layer2(x)\n",
        "    x = self.layer3(x)\n",
        "    x = self.layer4(x)\n",
        "    return x"
      ],
      "execution_count": null,
      "outputs": []
    },
    {
      "cell_type": "code",
      "metadata": {
        "id": "Hdq63LpVjsFN"
      },
      "source": [
        "model_bb = ResNetBackbone()\n",
        "print(model_bb)"
      ],
      "execution_count": null,
      "outputs": []
    },
    {
      "cell_type": "code",
      "metadata": {
        "id": "uaGkBSV0HmXq"
      },
      "source": [
        "model_bb.conv1 = backbone.conv1\n",
        "model_bb.bn1 = backbone.bn1\n",
        "model_bb.relu = backbone.relu\n",
        "model_bb.maxpool = backbone.maxpool\n",
        "model_bb.layer1 = backbone.layer1\n",
        "model_bb.layer2 = backbone.layer2\n",
        "model_bb.layer3 = backbone.layer3\n",
        "model_bb.layer4 = backbone.layer4"
      ],
      "execution_count": null,
      "outputs": []
    },
    {
      "cell_type": "code",
      "metadata": {
        "id": "7lJSeVh4evT6"
      },
      "source": [
        "inp = torch.randn([batch_size, 3, 224, 224])\n",
        "print(inp.size())\n",
        "out = model_bb(inp)\n",
        "print(out.size())"
      ],
      "execution_count": null,
      "outputs": []
    },
    {
      "cell_type": "code",
      "metadata": {
        "id": "lF60eY-QHBwp"
      },
      "source": [
        "for param in model_bb.parameters():\n",
        "    param.requires_grad = False"
      ],
      "execution_count": null,
      "outputs": []
    },
    {
      "cell_type": "markdown",
      "metadata": {
        "id": "TrYglB2X2cKI"
      },
      "source": [
        "### transformer model hyperparameters\n"
      ]
    },
    {
      "cell_type": "code",
      "metadata": {
        "id": "NbMrFjLfKqaF"
      },
      "source": [
        "h = 8\n",
        "batch_size = 2\n",
        "seq_len=50\n",
        "d_model = 128\n",
        "d_k = d_q = d_v = d_model//h\n",
        "d_ff = 2048\n",
        "n_blocks = 3\n",
        "src_vocab_size = 1000\n",
        "tgt_vocab_size = 1000"
      ],
      "execution_count": null,
      "outputs": []
    },
    {
      "cell_type": "markdown",
      "metadata": {
        "id": "5VszmAc_m5J0"
      },
      "source": [
        "### transformer"
      ]
    },
    {
      "cell_type": "markdown",
      "metadata": {
        "id": "_Qla2WbpkWlJ"
      },
      "source": [
        "### **Positional Encoding:**\n",
        "\n",
        "Since the model contains no convolutions or recursion to make use of order of the sequence, positional encodings are used."
      ]
    },
    {
      "cell_type": "markdown",
      "metadata": {
        "id": "wczxwAmFlc2f"
      },
      "source": [
        "input dimensions: (batch_size, seq_len, d_model)"
      ]
    },
    {
      "cell_type": "code",
      "metadata": {
        "id": "tov4ccTXYZnr"
      },
      "source": [
        "# positional encoding\n",
        "class PositionalEncoding(nn.Module):\n",
        "  \"\"\" input: tensor x\n",
        "      output: tensor x + position encoding \"\"\"\n",
        "  def __init__(self, max_len = 50):\n",
        "    super(PositionalEncoding, self).__init__()\n",
        "    self.max_len = max_len\n",
        "\n",
        "    arr = np.ones((max_len, d_model))\n",
        "  \n",
        "    pos = np.arange(max_len).reshape(max_len, 1)\n",
        "    pos = arr*pos\n",
        "\n",
        "    i = np.arange(0, d_model, 1)\n",
        "    p = arr*(i.reshape(1, d_model))/d_model\n",
        "\n",
        "    x = pos/np.power(10000, p)\n",
        "    sin_mask = np.ones(d_model)\n",
        "    sin_mask[1:d_model:2] = 0\n",
        "    cos_mask = np.ones(d_model)\n",
        "    cos_mask[0:d_model:2] = 0\n",
        "    self.pe = sin_mask.reshape(1, d_model)*np.sin(x)+cos_mask.reshape(1, d_model)*np.cos(x)\n",
        "    self.pe = torch.from_numpy(self.pe)\n",
        "    self.pe = torch.unsqueeze(input = self.pe, dim=0)\n",
        "\n",
        "  def forward(self, x):\n",
        "    x = x + self.pe\n",
        "    return x"
      ],
      "execution_count": null,
      "outputs": []
    },
    {
      "cell_type": "code",
      "metadata": {
        "colab": {
          "base_uri": "https://localhost:8080/"
        },
        "id": "1n6R1gLOyVYG",
        "outputId": "07336cd6-bb09-4f1e-cc64-2e8ed809b56e"
      },
      "source": [
        "sns.set()\n",
        "seq_len=50\n",
        "pe = PositionalEncoding(max_len = seq_len)\n",
        "x = torch.randn(size = [batch_size, seq_len, d_model])\n",
        "a = pe(x = 0)\n",
        "print(a.size())"
      ],
      "execution_count": null,
      "outputs": [
        {
          "output_type": "stream",
          "name": "stdout",
          "text": [
            "torch.Size([1, 50, 128])\n"
          ]
        }
      ]
    },
    {
      "cell_type": "code",
      "metadata": {
        "colab": {
          "base_uri": "https://localhost:8080/",
          "height": 626
        },
        "id": "NXRUauP-0KjM",
        "outputId": "d17022e7-564f-4fa6-fc83-1dbcc30ac28d"
      },
      "source": [
        "plt.figure(figsize=(20, 10))\n",
        "sns.heatmap(a[0], cmap=\"bwr\")"
      ],
      "execution_count": null,
      "outputs": [
        {
          "output_type": "execute_result",
          "data": {
            "text/plain": [
              "<matplotlib.axes._subplots.AxesSubplot at 0x7f9033c7f310>"
            ]
          },
          "metadata": {},
          "execution_count": 49
        },
        {
          "output_type": "display_data",
          "data": {
            "image/png": "[encoded data removed]",
            "text/plain": [
              "<Figure size 1440x720 with 2 Axes>"
            ]
          },
          "metadata": {}
        }
      ]
    },
    {
      "cell_type": "markdown",
      "metadata": {
        "id": "foX2pfsKxkD0"
      },
      "source": [
        "### transformer"
      ]
    },
    {
      "cell_type": "code",
      "metadata": {
        "id": "PWe_4CUzIyZf"
      },
      "source": [
        "class Transformer(nn.Module):\n",
        "  def __init__(self, d_model = 512, num_heads = 8, d_ff = 2048, encoder_layers = 4, decoder_layers = 4, batch_first=True):\n",
        "    super(Transformer, self).__init__()\n",
        "\n",
        "    decoder_layer = nn.TransformerDecoderLayer(d_model=d_model, nhead=num_heads, dim_feedforward=d_ff, dropout=0.1, batch_first=True)\n",
        "    self.transformer_decoder = nn.TransformerDecoder(decoder_layer, num_layers=decoder_layers)\n",
        "\n",
        "    encoder_layer = nn.TransformerEncoderLayer(d_model=d_model, nhead=num_heads, dim_feedforward=2048, dropout=0.1, batch_first=True)\n",
        "    self.transformer_encoder = nn.TransformerEncoder(encoder_layer, num_layers=encoder_layers)\n",
        "\n",
        "  def forward(self, input):\n",
        "    x = self.transformer_encoder(input)\n",
        "    x = self.transformer_decoder(x)\n",
        "    return x"
      ],
      "execution_count": null,
      "outputs": []
    },
    {
      "cell_type": "markdown",
      "metadata": {
        "id": "5dXM_EHqPK2o"
      },
      "source": [
        "### prediction heads"
      ]
    },
    {
      "cell_type": "code",
      "metadata": {
        "id": "IdHBCB4OPPTz"
      },
      "source": [
        "class MLP(nn.Module):\n",
        "  def __init__(self, input_dim = d_model, hidden_dim = d_model, output_dim = 4, num_layers = 3):\n",
        "    super(MLP, self).__init__()\n",
        "    self.layers = [nn.Linear(input_dim, hidden_dim), nn.ReLU(inplace = True)]\n",
        "    for i in range(num_layers-2):\n",
        "      self.layers += [nn.Linear(hidden_dim, hidden_dim), nn.ReLU(inplace = True)]\n",
        "    self.layers += [nn.Linear(hidden_dim, output_dim), nn.ReLU(inplace = True)]\n",
        "    self.mlp = nn.Sequential(*self.layers)\n",
        "\n",
        "  def forward(self, x):\n",
        "    x = self.mlp(x)\n",
        "    return x"
      ],
      "execution_count": null,
      "outputs": []
    },
    {
      "cell_type": "code",
      "metadata": {
        "id": "VQ8-VX-DUsti"
      },
      "source": [
        "class PredictionHeads(nn.Module):\n",
        "  def __init__(self, num_classes = 20):\n",
        "    super(PredictionHeads, self).__init__()\n",
        "    self.class_layer = nn.Linear(d_model, num_classes+1)\n",
        "    self.bbox_layer = MLP(hidden_dim = d_model)\n",
        "\n",
        "  def forward(self, input):\n",
        "    class_logits = self.class_layer(input)\n",
        "    bbox = bbox_layer(input)\n",
        "    out = {'class_logits':class_logits, 'bbox':bbox}\n",
        "    return out"
      ],
      "execution_count": null,
      "outputs": []
    },
    {
      "cell_type": "markdown",
      "metadata": {
        "id": "H7hl33u0JFwj"
      },
      "source": [
        "### DETR"
      ]
    },
    {
      "cell_type": "code",
      "metadata": {
        "id": "WT1lX2aeXf_b"
      },
      "source": [
        "# trainable model weights (except resnet backbone)"
      ],
      "execution_count": null,
      "outputs": []
    },
    {
      "cell_type": "code",
      "metadata": {
        "id": "u6OtZTF6XgBy"
      },
      "source": [
        "class DETR(nn.Module):\n",
        "  def __init__(self, batch_size, num_channels, num_classes):\n",
        "    super(DETR, self).__init__()\n",
        "\n",
        "    self.batch_size = batch_size\n",
        "    self.num_channels = num_channels\n",
        "\n",
        "    self.pe = PositionalEncoding(max_len = num_channels)\n",
        "    self.pred_head = PredictionHeads(num_classes = num_classes)\n",
        "    self.transformer = Transformer(d_model = 512, num_heads = 8, d_ff = 2048, encoder_layers = 4, decoder_layers = 4, batch_first=True)\n",
        "\n",
        "  def forward(self, feature_maps):\n",
        "    x = feature_maps.view(self.batch_size, self.num_channels, -1)\n",
        "    x = self.pe(x)\n",
        "    x = self.transformer(x)\n",
        "    x = self.pred_head(x)\n",
        "    return x"
      ],
      "execution_count": null,
      "outputs": []
    },
    {
      "cell_type": "code",
      "metadata": {
        "id": "zz4AcxjaXgEc"
      },
      "source": [
        "detr = DETR()"
      ],
      "execution_count": null,
      "outputs": []
    },
    {
      "cell_type": "code",
      "metadata": {
        "id": "t29rCmBKXgHB"
      },
      "source": [
        "print(detr)"
      ],
      "execution_count": null,
      "outputs": []
    },
    {
      "cell_type": "code",
      "metadata": {
        "id": "Yf7DJF1HXgKc"
      },
      "source": [
        ""
      ],
      "execution_count": null,
      "outputs": []
    },
    {
      "cell_type": "markdown",
      "metadata": {
        "id": "X8JM3rrTlVGY"
      },
      "source": [
        "### bipartite matching"
      ]
    },
    {
      "cell_type": "code",
      "metadata": {
        "id": "rzKSeO1HO2kP"
      },
      "source": [
        "# hungarian algorithm"
      ],
      "execution_count": null,
      "outputs": []
    },
    {
      "cell_type": "code",
      "metadata": {
        "id": "g6gFI6nQILVR"
      },
      "source": [
        "# Copyright (c) Facebook, Inc. and its affiliates. All Rights Reserved\n",
        "\"\"\"\n",
        "Modules to compute the matching cost and solve the corresponding LSAP.\n",
        "\"\"\"\n",
        "import torch\n",
        "from scipy.optimize import linear_sum_assignment\n",
        "from torch import nn\n",
        "\n",
        "from util.box_ops import box_cxcywh_to_xyxy, generalized_box_iou\n",
        "\n",
        "\n",
        "class HungarianMatcher(nn.Module):\n",
        "    \"\"\"This class computes an assignment between the targets and the predictions of the network\n",
        "    For efficiency reasons, the targets don't include the no_object. Because of this, in general,\n",
        "    there are more predictions than targets. In this case, we do a 1-to-1 matching of the best predictions,\n",
        "    while the others are un-matched (and thus treated as non-objects).\n",
        "    \"\"\"\n",
        "\n",
        "    def __init__(self, cost_class: float = 1, cost_bbox: float = 1, cost_giou: float = 1):\n",
        "        \"\"\"Creates the matcher\n",
        "        Params:\n",
        "            cost_class: This is the relative weight of the classification error in the matching cost\n",
        "            cost_bbox: This is the relative weight of the L1 error of the bounding box coordinates in the matching cost\n",
        "            cost_giou: This is the relative weight of the giou loss of the bounding box in the matching cost\n",
        "        \"\"\"\n",
        "        super().__init__()\n",
        "        self.cost_class = cost_class\n",
        "        self.cost_bbox = cost_bbox\n",
        "        self.cost_giou = cost_giou\n",
        "        assert cost_class != 0 or cost_bbox != 0 or cost_giou != 0, \"all costs cant be 0\"\n",
        "\n",
        "    @torch.no_grad()\n",
        "    def forward(self, outputs, targets):\n",
        "        \"\"\" Performs the matching\n",
        "        Params:\n",
        "            outputs: This is a dict that contains at least these entries:\n",
        "                 \"pred_logits\": Tensor of dim [batch_size, num_queries, num_classes] with the classification logits\n",
        "                 \"pred_boxes\": Tensor of dim [batch_size, num_queries, 4] with the predicted box coordinates\n",
        "            targets: This is a list of targets (len(targets) = batch_size), where each target is a dict containing:\n",
        "                 \"labels\": Tensor of dim [num_target_boxes] (where num_target_boxes is the number of ground-truth\n",
        "                           objects in the target) containing the class labels\n",
        "                 \"boxes\": Tensor of dim [num_target_boxes, 4] containing the target box coordinates\n",
        "        Returns:\n",
        "            A list of size batch_size, containing tuples of (index_i, index_j) where:\n",
        "                - index_i is the indices of the selected predictions (in order)\n",
        "                - index_j is the indices of the corresponding selected targets (in order)\n",
        "            For each batch element, it holds:\n",
        "                len(index_i) = len(index_j) = min(num_queries, num_target_boxes)\n",
        "        \"\"\"\n",
        "        bs, num_queries = outputs[\"pred_logits\"].shape[:2]\n",
        "\n",
        "        # We flatten to compute the cost matrices in a batch\n",
        "        out_prob = outputs[\"pred_logits\"].flatten(0, 1).softmax(-1)  # [batch_size * num_queries, num_classes]\n",
        "        out_bbox = outputs[\"pred_boxes\"].flatten(0, 1)  # [batch_size * num_queries, 4]\n",
        "\n",
        "        # Also concat the target labels and boxes\n",
        "        tgt_ids = torch.cat([v[\"labels\"] for v in targets])\n",
        "        tgt_bbox = torch.cat([v[\"boxes\"] for v in targets])\n",
        "\n",
        "        # Compute the classification cost. Contrary to the loss, we don't use the NLL,\n",
        "        # but approximate it in 1 - proba[target class].\n",
        "        # The 1 is a constant that doesn't change the matching, it can be ommitted.\n",
        "        cost_class = -out_prob[:, tgt_ids]\n",
        "\n",
        "        # Compute the L1 cost between boxes\n",
        "        cost_bbox = torch.cdist(out_bbox, tgt_bbox, p=1)\n",
        "\n",
        "        # Compute the giou cost betwen boxes\n",
        "        cost_giou = -generalized_box_iou(box_cxcywh_to_xyxy(out_bbox), box_cxcywh_to_xyxy(tgt_bbox))\n",
        "\n",
        "        # Final cost matrix\n",
        "        C = self.cost_bbox * cost_bbox + self.cost_class * cost_class + self.cost_giou * cost_giou\n",
        "        C = C.view(bs, num_queries, -1).cpu()\n",
        "\n",
        "        sizes = [len(v[\"boxes\"]) for v in targets]\n",
        "        indices = [linear_sum_assignment(c[i]) for i, c in enumerate(C.split(sizes, -1))]\n",
        "        return [(torch.as_tensor(i, dtype=torch.int64), torch.as_tensor(j, dtype=torch.int64)) for i, j in indices]\n",
        "\n",
        "\n",
        "def build_matcher(args):\n",
        "    return HungarianMatcher(cost_class=args.set_cost_class, cost_bbox=args.set_cost_bbox, cost_giou=args.set_cost_giou)"
      ],
      "execution_count": null,
      "outputs": []
    },
    {
      "cell_type": "code",
      "metadata": {
        "id": "h7NtoM4sILYH"
      },
      "source": [
        ""
      ],
      "execution_count": null,
      "outputs": []
    },
    {
      "cell_type": "code",
      "metadata": {
        "id": "MNq80zflILbo"
      },
      "source": [
        ""
      ],
      "execution_count": null,
      "outputs": []
    },
    {
      "cell_type": "markdown",
      "metadata": {
        "id": "K7mkU6GrkHxd"
      },
      "source": [
        "## train"
      ]
    },
    {
      "cell_type": "code",
      "metadata": {
        "id": "xfm7P2a-v-n1"
      },
      "source": [
        "lr = 0.0002\n",
        "beta1 = 0.5\n",
        "beta2 = 0.999\n",
        "num_epochs = 20"
      ],
      "execution_count": null,
      "outputs": []
    },
    {
      "cell_type": "code",
      "metadata": {
        "id": "4ebiLsGEwAv4"
      },
      "source": [
        "optimizer_G = torch.optim.Adam(itertools.chain(Gxy.parameters(), Gyx.parameters()), lr= lr, betas=(beta1, beta2))\n",
        "optimizer_D = torch.optim.Adam(itertools.chain(Dx.parameters(), Dy.parameters()), lr= lr, betas=(beta1, beta2))"
      ],
      "execution_count": null,
      "outputs": []
    },
    {
      "cell_type": "code",
      "metadata": {
        "id": "HNa7l8eLwAyt"
      },
      "source": [
        "def get_gradient_norm(model):\n",
        "  for p in model.parameters():\n",
        "    param_norm = p.grad.detach().data.norm(2)\n",
        "    total_norm += param_norm.item()**2\n",
        "  total_norm = total_norm**0.5\n",
        "  return total_norm"
      ],
      "execution_count": null,
      "outputs": []
    },
    {
      "cell_type": "code",
      "metadata": {
        "id": "2yPPg5AAwA2Q"
      },
      "source": [
        "def add_images_to_tensorboard(iteration):\n",
        "  zebra_images = Gxy(get_horse_images().to(device)).clone().detach().to('cpu')\n",
        "  horse_images = Gyx(get_zebra_images().to(device)).clone().detach().to('cpu')\n",
        "  images = [*horse_images[0:4], *zebra_images[0:4]]\n",
        "  img_grid = torchvision.utils.make_grid(images, nrow=4)\n",
        "  writer.add_image('image-generated at epoch'+str(epoch), img_grid)"
      ],
      "execution_count": null,
      "outputs": []
    },
    {
      "cell_type": "code",
      "metadata": {
        "id": "itFMbGXtkJNg"
      },
      "source": [
        "def train(epoch, lambda_cyc=10, k=1, iterations = 125):\n",
        "  for iteration in range(iterations):\n",
        "    #Update the Discriminators k steps\n",
        "    x = 125*epoch + iteration\n",
        "    for i in range(k):\n",
        "      optimizer_D.zero_grad()\n",
        "\n",
        "      real_x = get_horse_images().clone().detach().to(device)\n",
        "      adversarial_loss = LS_loss(D_real_images = Dx(real_x), D_generated_images = Dy(Gxy(real_x)), generator_loss = False)\n",
        "      adversarial_loss.backward(retain_graph=False, create_graph=False)\n",
        "\n",
        "      #add loss for Dx on real + Dy on generated\n",
        "      writer.add_scalar(\"Loss/train/Dx on real + Dy on generated\", adversarial_loss, x)\n",
        "\n",
        "      real_y = get_zebra_images().clone().detach().to(device)\n",
        "      adversarial_loss = LS_loss(D_real_images = Dy(real_y), D_generated_images = Dx(Gyx(real_y)), generator_loss = False)\n",
        "      adversarial_loss.backward(retain_graph=False, create_graph=False)\n",
        "\n",
        "      #add loss for Dy on real + Dx on generated\n",
        "      writer.add_scalar(\"Loss/train/Dy on real + Dx on generated\", adversarial_loss, x)\n",
        "\n",
        "      optimizer_D.step() #update weights\n",
        "\n",
        "    # Update the Generators 1 step\n",
        "    optimizer_G.zero_grad()\n",
        "\n",
        "    # sample from Domain X ->cycle loss\n",
        "    real_x = get_horse_images().clone().detach().to(device)\n",
        "    loss = lambda_cyc*cycle_loss(real_x, Gyx(Gxy(real_x)))\n",
        "    loss.backward(retain_graph=False, create_graph=False)\n",
        "\n",
        "    #add cycle_loss for horse\n",
        "    writer.add_scalar(\"Loss/train/loss_cycle_horse\", loss, x)\n",
        "\n",
        "    # sample from Domain Y ->cycle loss\n",
        "    real_y = get_zebra_images().clone().detach().to(device)\n",
        "    loss = lambda_cyc*cycle_loss(real_y, Gxy(Gyx(real_y)))\n",
        "    loss.backward(retain_graph=False, create_graph=False)\n",
        "\n",
        "    #add cycle_loss for zebra\n",
        "    writer.add_scalar(\"Loss/train/loss_cycle_zebra\", loss, x)\n",
        "\n",
        "    # adversarial losses for both generators\n",
        "    real_x = get_horse_images().clone().detach().to(device)\n",
        "    adversarial_loss = LS_loss(D_real_images = 0, D_generated_images = Dy(Gxy(real_x)), generator_loss = True)\n",
        "    adversarial_loss.backward(retain_graph=False, create_graph=False)\n",
        "\n",
        "    #add adversarial_loss for Gxy\n",
        "    writer.add_scalar(\"Loss/train/Gxy\", adversarial_loss, x)\n",
        "\n",
        "    real_y = get_zebra_images().clone().detach().to(device)\n",
        "    adversarial_loss = LS_loss(D_real_images = 0, D_generated_images = Dx(Gyx(real_y)), generator_loss = True)\n",
        "    adversarial_loss.backward(retain_graph=False, create_graph=False)\n",
        "\n",
        "    #add adversarial_loss for Gyx\n",
        "    writer.add_scalar(\"Loss/train/Gyx\", adversarial_loss, x)\n",
        "\n",
        "    # nn.utils.clip_grad_norm_(Gxy.parameters(), max_norm=0.01, norm_type=2.0)\n",
        "    # nn.utils.clip_grad_norm_(Gyx.parameters(), max_norm=0.01, norm_type=2.0)\n",
        "\n",
        "    optimizer_G.step() #update weights"
      ],
      "execution_count": null,
      "outputs": []
    },
    {
      "cell_type": "code",
      "metadata": {
        "id": "lqFYpw7qkJP2"
      },
      "source": [
        "for epoch in tqdm(range(num_epochs)):\n",
        "  add_images_to_tensorboard(epoch)\n",
        "  train(epoch = epoch, lambda_cyc=10, k=1, iterations = 125)\n",
        "  torch.save({'Gxy_state_dict': Gxy.state_dict(),\n",
        "            'Gyx_state_dict': Gyx.state_dict(),\n",
        "            'Dx_state_dict': Dx.state_dict(),\n",
        "            'Dy_state_dict': Dy.state_dict()}, os.path.join(PATH, 'cyclegan_model.pth'))\n",
        "  torch.cuda.empty_cache()"
      ],
      "execution_count": null,
      "outputs": []
    },
    {
      "cell_type": "code",
      "metadata": {
        "id": "Vo3Oed0qkJTY"
      },
      "source": [
        "torch.save({'Gxy_state_dict': Gxy.state_dict(),\n",
        "            'Gyx_state_dict': Gyx.state_dict(),\n",
        "            'Dx_state_dict': Dx.state_dict(),\n",
        "            'Dy_state_dict': Dy.state_dict()}, os.path.join(PATH, 'cyclegan_model.pth'))"
      ],
      "execution_count": null,
      "outputs": []
    }
  ]
}